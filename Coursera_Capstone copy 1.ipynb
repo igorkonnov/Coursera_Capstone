{
    "cells": [
        {
            "metadata": {
                "collapsed": true
            },
            "cell_type": "markdown",
            "source": "<h2><center>Capstone Project - Air accident data severity project </h2>"
        },
        {
            "metadata": {},
            "cell_type": "markdown",
            "source": "\n<h3><center> Applied Data Science Capstone by IBM/Coursera"
        },
        {
            "metadata": {},
            "cell_type": "markdown",
            "source": "## Table of contents\n* [Introduction: Business Problem](#introduction)\n* [Data](#data)\n* [Methodology](#methodology)\n* [Analysis](#analysis)\n* [Results and Discussion](#results)\n* [Conclusion](#conclusion)"
        },
        {
            "metadata": {},
            "cell_type": "markdown",
            "source": "\n### Introduction: Business Problem <a name=\"introduction\"></a>"
        },
        {
            "metadata": {},
            "cell_type": "markdown",
            "source": "The project will predict  air  accidents' severity based on ICAO data provided for a period of 2008-2020.\nAviation accidents are rare, but when they occur, it can be difficult to determine who is at fault and any probable causes. Several parties, including designated federal agencies, may be part of an aviation accident investigation.\nThere are more than 100 international and  local organization are involve in air accident investigation  : ICAO, National Transportation Safety Board (USA), Federal Aviation Administration and etc.  These groups of organizations, aircraft producers can be interested in the  project. \n"
        },
        {
            "metadata": {},
            "cell_type": "markdown",
            "source": "### Data <a name=\"data\"></a>"
        },
        {
            "metadata": {},
            "cell_type": "markdown",
            "source": "Based on definition of our problem, factors that will influence our decision are: number of accidents, type of accident, types of aircraft,  number of departure, location of accident, type of engine. \nBased on the data will be created clusters of accident \nFollowing data sources will be needed to extract/generate the required information:\n1)ICAO accident data for period 2008-2020\n2)World Bank Data , departure statistics from 2008 \n3)World countries map with GEO data\n"
        },
        {
            "metadata": {},
            "cell_type": "code",
            "source": "import types\nimport pandas as pd\nfrom botocore.client import Config\nimport ibm_boto3\n\ndef __iter__(self): return 0\n\n# @hidden_cell\n# The following code accesses a file in your IBM Cloud Object Storage. It includes your credentials.\n# You might want to remove those credentials before you share the notebook.\nclient_fc64c72832fd4bb4acc55e7c706cc0b0 = ibm_boto3.client(service_name='s3',\n    ibm_api_key_id='',\n    ibm_auth_endpoint=\"https://iam.cloud.ibm.com/oidc/token\",\n    config=Config(signature_version='oauth'),\n    endpoint_url='https://s3.eu-geo.objectstorage.service.networklayer.com')\n\nbody = client_fc64c72832fd4bb4acc55e7c706cc0b0.get_object(Bucket='learning-donotdelete-pr-m5xgm8qhlbwnvd',Key='air.csv')['Body']\n# add missing __iter__ method, so pandas accepts body as file-like object\nif not hasattr(body, \"__iter__\"): body.__iter__ = types.MethodType( __iter__, body )\n\ndf_air = pd.read_csv(body)\ndf_air.head()# data accident from ICAO\n",
            "execution_count": 9,
            "outputs": [
                {
                    "output_type": "execute_result",
                    "execution_count": 9,
                    "data": {
                        "text/plain": "                         Date StateOfOccurrence  \\\n0  \"2008-01-02T00:00:00.000Z\"               PHL   \n1  \"2008-01-02T00:00:00.000Z\"               IRN   \n2  \"2008-01-03T00:00:00.000Z\"               USA   \n3  \"2008-01-04T00:00:00.000Z\"               CHL   \n4  \"2008-01-04T00:00:00.000Z\"               VEN   \n\n                         Location                              Model  \\\n0           Masbate Airport (MBT)                        NAMC YS11 A   \n1   Tehran-Mehrabad Airport (THR)                     FOKKER F27 100   \n2                   Oklahoma City                       PILATUS PC12   \n3                             NaN  Russian Helicopters (Kamov) Ka-32   \n4  A 20 NM del VOR del Gran Roque                       LET L410 UVP   \n\n  Registration                                           Operator  \\\n0     RP-C3592                           Philippines Asian Spirit   \n1       EP-IDB  Iran, Islamic Republic Of Iran National Airlin...   \n2        N398J                                                NaN   \n3       EC-JGX                                 Babcock MCS Espana   \n4       YV2081                                         Venezuela    \n\n  StateOfOperator StateOfRegistry FlightPhase     Class  ...  InjuryLevel  \\\n0             PHL             PHL     Landing  Accident  ...         None   \n1             IRN             IRN    Take-off  Accident  ...         None   \n2             NaN             USA    Standing  Accident  ...        Fatal   \n3             NaN             ESP    Standing  Accident  ...         None   \n4             VEN             VEN    En route  Accident  ...        Fatal   \n\n   TypeDesignator Helicopter Airplane Engines EngineType Official  \\\n0            YS11        NaN     True       2  Turboprop     True   \n1            F100        NaN     True       2        Jet     True   \n2            PC12      False     True       1  Turboprop      NaN   \n3            KA50       True    False       2  Turboprop      NaN   \n4            L410        NaN     True       2  Turboprop     True   \n\n            OccCats  Risk  Year  \n0            [\"RE\"]    RS  2008  \n1  [\"ICE\",\"F-POST\"]   OTH  2008  \n2          [\"RAMP\"]    RS  2008  \n3                []   NaN  2008  \n4        [\"SCF-PP\"]   SCF  2008  \n\n[5 rows x 24 columns]",
                        "text/html": "<div>\n<style scoped>\n    .dataframe tbody tr th:only-of-type {\n        vertical-align: middle;\n    }\n\n    .dataframe tbody tr th {\n        vertical-align: top;\n    }\n\n    .dataframe thead th {\n        text-align: right;\n    }\n</style>\n<table border=\"1\" class=\"dataframe\">\n  <thead>\n    <tr style=\"text-align: right;\">\n      <th></th>\n      <th>Date</th>\n      <th>StateOfOccurrence</th>\n      <th>Location</th>\n      <th>Model</th>\n      <th>Registration</th>\n      <th>Operator</th>\n      <th>StateOfOperator</th>\n      <th>StateOfRegistry</th>\n      <th>FlightPhase</th>\n      <th>Class</th>\n      <th>...</th>\n      <th>InjuryLevel</th>\n      <th>TypeDesignator</th>\n      <th>Helicopter</th>\n      <th>Airplane</th>\n      <th>Engines</th>\n      <th>EngineType</th>\n      <th>Official</th>\n      <th>OccCats</th>\n      <th>Risk</th>\n      <th>Year</th>\n    </tr>\n  </thead>\n  <tbody>\n    <tr>\n      <th>0</th>\n      <td>\"2008-01-02T00:00:00.000Z\"</td>\n      <td>PHL</td>\n      <td>Masbate Airport (MBT)</td>\n      <td>NAMC YS11 A</td>\n      <td>RP-C3592</td>\n      <td>Philippines Asian Spirit</td>\n      <td>PHL</td>\n      <td>PHL</td>\n      <td>Landing</td>\n      <td>Accident</td>\n      <td>...</td>\n      <td>None</td>\n      <td>YS11</td>\n      <td>NaN</td>\n      <td>True</td>\n      <td>2</td>\n      <td>Turboprop</td>\n      <td>True</td>\n      <td>[\"RE\"]</td>\n      <td>RS</td>\n      <td>2008</td>\n    </tr>\n    <tr>\n      <th>1</th>\n      <td>\"2008-01-02T00:00:00.000Z\"</td>\n      <td>IRN</td>\n      <td>Tehran-Mehrabad Airport (THR)</td>\n      <td>FOKKER F27 100</td>\n      <td>EP-IDB</td>\n      <td>Iran, Islamic Republic Of Iran National Airlin...</td>\n      <td>IRN</td>\n      <td>IRN</td>\n      <td>Take-off</td>\n      <td>Accident</td>\n      <td>...</td>\n      <td>None</td>\n      <td>F100</td>\n      <td>NaN</td>\n      <td>True</td>\n      <td>2</td>\n      <td>Jet</td>\n      <td>True</td>\n      <td>[\"ICE\",\"F-POST\"]</td>\n      <td>OTH</td>\n      <td>2008</td>\n    </tr>\n    <tr>\n      <th>2</th>\n      <td>\"2008-01-03T00:00:00.000Z\"</td>\n      <td>USA</td>\n      <td>Oklahoma City</td>\n      <td>PILATUS PC12</td>\n      <td>N398J</td>\n      <td>NaN</td>\n      <td>NaN</td>\n      <td>USA</td>\n      <td>Standing</td>\n      <td>Accident</td>\n      <td>...</td>\n      <td>Fatal</td>\n      <td>PC12</td>\n      <td>False</td>\n      <td>True</td>\n      <td>1</td>\n      <td>Turboprop</td>\n      <td>NaN</td>\n      <td>[\"RAMP\"]</td>\n      <td>RS</td>\n      <td>2008</td>\n    </tr>\n    <tr>\n      <th>3</th>\n      <td>\"2008-01-04T00:00:00.000Z\"</td>\n      <td>CHL</td>\n      <td>NaN</td>\n      <td>Russian Helicopters (Kamov) Ka-32</td>\n      <td>EC-JGX</td>\n      <td>Babcock MCS Espana</td>\n      <td>NaN</td>\n      <td>ESP</td>\n      <td>Standing</td>\n      <td>Accident</td>\n      <td>...</td>\n      <td>None</td>\n      <td>KA50</td>\n      <td>True</td>\n      <td>False</td>\n      <td>2</td>\n      <td>Turboprop</td>\n      <td>NaN</td>\n      <td>[]</td>\n      <td>NaN</td>\n      <td>2008</td>\n    </tr>\n    <tr>\n      <th>4</th>\n      <td>\"2008-01-04T00:00:00.000Z\"</td>\n      <td>VEN</td>\n      <td>A 20 NM del VOR del Gran Roque</td>\n      <td>LET L410 UVP</td>\n      <td>YV2081</td>\n      <td>Venezuela</td>\n      <td>VEN</td>\n      <td>VEN</td>\n      <td>En route</td>\n      <td>Accident</td>\n      <td>...</td>\n      <td>Fatal</td>\n      <td>L410</td>\n      <td>NaN</td>\n      <td>True</td>\n      <td>2</td>\n      <td>Turboprop</td>\n      <td>True</td>\n      <td>[\"SCF-PP\"]</td>\n      <td>SCF</td>\n      <td>2008</td>\n    </tr>\n  </tbody>\n</table>\n<p>5 rows \u00d7 24 columns</p>\n</div>"
                    },
                    "metadata": {}
                }
            ]
        },
        {
            "metadata": {},
            "cell_type": "markdown",
            "source": "#### Departues from World Bank Data"
        },
        {
            "metadata": {},
            "cell_type": "code",
            "source": "body = client_fc64c72832fd4bb4acc55e7c706cc0b0.get_object(Bucket='learning-donotdelete-pr-m5xgm8qhlbwnvd',Key='departure1.xlsx')['Body']\n# add missing __iter__ method, so pandas accepts body as file-like object\nif not hasattr(body, \"__iter__\"): body.__iter__ = types.MethodType( __iter__, body )\n\ndeparture = pd.read_excel(body)\ndeparture.head()\n",
            "execution_count": 10,
            "outputs": [
                {
                    "output_type": "execute_result",
                    "execution_count": 10,
                    "data": {
                        "text/plain": "   Unnamed: 0 Country Name Country Code  number_departure\n0           0        Aruba          ABW        4408.00000\n1           1  Afghanistan          AFG      207031.44600\n2           2       Angola          AGO      133293.00000\n3           3      Albania          ALB       58625.39008\n4           4      Andorra          AND           0.00000",
                        "text/html": "<div>\n<style scoped>\n    .dataframe tbody tr th:only-of-type {\n        vertical-align: middle;\n    }\n\n    .dataframe tbody tr th {\n        vertical-align: top;\n    }\n\n    .dataframe thead th {\n        text-align: right;\n    }\n</style>\n<table border=\"1\" class=\"dataframe\">\n  <thead>\n    <tr style=\"text-align: right;\">\n      <th></th>\n      <th>Unnamed: 0</th>\n      <th>Country Name</th>\n      <th>Country Code</th>\n      <th>number_departure</th>\n    </tr>\n  </thead>\n  <tbody>\n    <tr>\n      <th>0</th>\n      <td>0</td>\n      <td>Aruba</td>\n      <td>ABW</td>\n      <td>4408.00000</td>\n    </tr>\n    <tr>\n      <th>1</th>\n      <td>1</td>\n      <td>Afghanistan</td>\n      <td>AFG</td>\n      <td>207031.44600</td>\n    </tr>\n    <tr>\n      <th>2</th>\n      <td>2</td>\n      <td>Angola</td>\n      <td>AGO</td>\n      <td>133293.00000</td>\n    </tr>\n    <tr>\n      <th>3</th>\n      <td>3</td>\n      <td>Albania</td>\n      <td>ALB</td>\n      <td>58625.39008</td>\n    </tr>\n    <tr>\n      <th>4</th>\n      <td>4</td>\n      <td>Andorra</td>\n      <td>AND</td>\n      <td>0.00000</td>\n    </tr>\n  </tbody>\n</table>\n</div>"
                    },
                    "metadata": {}
                }
            ]
        },
        {
            "metadata": {},
            "cell_type": "code",
            "source": "url = 'https://s3-api.us-geo.objectstorage.softlayer.net/cf-courses-data/CognitiveClass/DV0101EN/labs/Data_Files/world_countries.json'\nworld_geo = wget.download(url)",
            "execution_count": 12,
            "outputs": []
        },
        {
            "metadata": {},
            "cell_type": "code",
            "source": "",
            "execution_count": null,
            "outputs": []
        }
    ],
    "metadata": {
        "kernelspec": {
            "name": "python3",
            "display_name": "Python 3.6",
            "language": "python"
        },
        "language_info": {
            "name": "python",
            "version": "3.6.9",
            "mimetype": "text/x-python",
            "codemirror_mode": {
                "name": "ipython",
                "version": 3
            },
            "pygments_lexer": "ipython3",
            "nbconvert_exporter": "python",
            "file_extension": ".py"
        }
    },
    "nbformat": 4,
    "nbformat_minor": 1
}